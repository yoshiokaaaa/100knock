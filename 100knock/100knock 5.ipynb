{
 "cells": [
  {
   "cell_type": "code",
   "execution_count": 1,
   "metadata": {
    "collapsed": false
   },
   "outputs": [],
   "source": [
    "import CaboCha\n",
    "import pydotplus\n",
    "import subprocess"
   ]
  },
  {
   "cell_type": "code",
   "execution_count": 2,
   "metadata": {
    "collapsed": false
   },
   "outputs": [],
   "source": [
    "def cabocha_analyze(input_file,output_file):\n",
    "    c = CaboCha.Parser()\n",
    "    with open(input_file,'r') as inputfile:\n",
    "        with open(output_file,'wt',encoding='utf-8') as outputfile:\n",
    "            for line in inputfile:\n",
    "                tree = c.parse(line.strip())\n",
    "                outputfile.write(tree.toString(CaboCha.FORMAT_LATTICE))\n",
    "\n",
    "cabocha_analyze('neco.txt', 'neco.txt.cabocha')"
   ]
  },
  {
   "cell_type": "code",
   "execution_count": 3,
   "metadata": {
    "collapsed": false
   },
   "outputs": [],
   "source": [
    "class Morph:\n",
    "    def __init__(self,surface,base,pos,pos1):\n",
    "        self.surface = surface\n",
    "        self.base = base\n",
    "        self.pos = pos\n",
    "        self.pos1 = pos1\n",
    "    \n",
    "    def is_end_of_sentence(self):\n",
    "        return self.pos1 == '句点'\n",
    "    \n",
    "    def __str__(self):\n",
    "        return 'surface: {}, base: {}, pos: {}, pos1: {}'.format(self.surface, self.base, self.pos, self.pos1)"
   ]
  },
  {
   "cell_type": "code",
   "execution_count": 4,
   "metadata": {
    "collapsed": false
   },
   "outputs": [
    {
     "data": {
      "text/plain": [
       "True"
      ]
     },
     "execution_count": 4,
     "metadata": {},
     "output_type": "execute_result"
    }
   ],
   "source": [
    "unko = Morph(surface='unko', base=1, pos=2, pos1='句点')\n",
    "unko.is_end_of_sentence()"
   ]
  },
  {
   "cell_type": "code",
   "execution_count": 5,
   "metadata": {
    "collapsed": false
   },
   "outputs": [
    {
     "name": "stdout",
     "output_type": "stream",
     "text": [
      "[['一', '名詞,数,*,*,*,*,一,イチ,イチ'], ['吾輩', '名詞,代名詞,一般,*,*,*,吾輩,ワガハイ,ワガハイ'], ['は', '助詞,係助詞,*,*,*,*,は,ハ,ワ'], ['猫', '名詞,一般,*,*,*,*,猫,ネコ,ネコ'], ['で', '助動詞,*,*,*,特殊・ダ,連用形,だ,デ,デ'], ['ある', '助動詞,*,*,*,五段・ラ行アル,基本形,ある,アル,アル'], ['。', '記号,句点,*,*,*,*,。,。,。'], ['名前', '名詞,一般,*,*,*,*,名前,ナマエ,ナマエ'], ['は', '助詞,係助詞,*,*,*,*,は,ハ,ワ'], ['まだ', '副詞,助詞類接続,*,*,*,*,まだ,マダ,マダ'], ['無い', '形容詞,自立,*,*,形容詞・アウオ段,基本形,無い,ナイ,ナイ'], ['。', '記号,句点,*,*,*,*,。,。,。'], ['どこ', '名詞,代名詞,一般,*,*,*,どこ,ドコ,ドコ'], ['で', '助詞,格助詞,一般,*,*,*,で,デ,デ'], ['生れ', '動詞,自立,*,*,一段,連用形,生れる,ウマレ,ウマレ'], ['た', '助動詞,*,*,*,特殊・タ,基本形,た,タ,タ'], ['か', '助詞,副助詞／並立助詞／終助詞,*,*,*,*,か,カ,カ'], ['とんと', '副詞,一般,*,*,*,*,とんと,トント,トント'], ['見当', '名詞,サ変接続,*,*,*,*,見当,ケントウ,ケントー'], ['が', '助詞,格助詞,一般,*,*,*,が,ガ,ガ'], ['つか', '動詞,自立,*,*,五段・カ行イ音便,未然形,つく,ツカ,ツカ'], ['ぬ', '助動詞,*,*,*,特殊・ヌ,基本形,ぬ,ヌ,ヌ'], ['。', '記号,句点,*,*,*,*,。,。,。'], ['何', '名詞,代名詞,一般,*,*,*,何,ナニ,ナニ'], ['でも', '助詞,副助詞,*,*,*,*,でも,デモ,デモ'], ['薄暗い', '形容詞,自立,*,*,形容詞・アウオ段,基本形,薄暗い,ウスグライ,ウスグライ'], ['じめじめ', '副詞,一般,*,*,*,*,じめじめ,ジメジメ,ジメジメ'], ['し', '動詞,自立,*,*,サ変・スル,連用形,する,シ,シ'], ['た', '助動詞,*,*,*,特殊・タ,基本形,た,タ,タ'], ['所', '名詞,非自立,副詞可能,*,*,*,所,トコロ,トコロ'], ['で', '助詞,格助詞,一般,*,*,*,で,デ,デ'], ['ニャーニャー', '名詞,一般,*,*,*,*,*'], ['泣い', '動詞,自立,*,*,五段・カ行イ音便,連用タ接続,泣く,ナイ,ナイ'], ['て', '助詞,接続助詞,*,*,*,*,て,テ,テ'], ['いた事', '名詞,一般,*,*,*,*,いた事,イタコト,イタコト'], ['だけ', '助詞,副助詞,*,*,*,*,だけ,ダケ,ダケ'], ['は', '助詞,係助詞,*,*,*,*,は,ハ,ワ'], ['記憶', '名詞,サ変接続,*,*,*,*,記憶,キオク,キオク'], ['し', '動詞,自立,*,*,サ変・スル,連用形,する,シ,シ'], ['て', '助詞,接続助詞,*,*,*,*,て,テ,テ']]\n",
      "surface: どこ, base: どこ, pos: 名詞, pos1: 代名詞\n",
      "surface: で, base: で, pos: 助詞, pos1: 格助詞\n",
      "surface: 生れ, base: 生れる, pos: 動詞, pos1: 自立\n",
      "surface: た, base: た, pos: 助動詞, pos1: *\n",
      "surface: か, base: か, pos: 助詞, pos1: 副助詞／並立助詞／終助詞\n",
      "surface: とんと, base: とんと, pos: 副詞, pos1: 一般\n",
      "surface: 見当, base: 見当, pos: 名詞, pos1: サ変接続\n",
      "surface: が, base: が, pos: 助詞, pos1: 格助詞\n",
      "surface: つか, base: つく, pos: 動詞, pos1: 自立\n",
      "surface: ぬ, base: ぬ, pos: 助動詞, pos1: *\n",
      "surface: 。, base: 。, pos: 記号, pos1: 句点\n"
     ]
    }
   ],
   "source": [
    "def cabocha_list(analyzed):\n",
    "    with open(analyzed,'r') as cabocha_analyzed:\n",
    "        cabocha_a = cabocha_analyzed.read()\n",
    "        words = []\n",
    "        sentence = []\n",
    "        morphs = []\n",
    "        cabocha = cabocha_a.split('\\n')\n",
    "        del cabocha[-1]\n",
    "        for line in cabocha:\n",
    "            i = line.split()\n",
    "            if i[0] == '*' or i[0] == 'EOS':\n",
    "                pass\n",
    "            else:\n",
    "                words.append(i)\n",
    "        for k in words:\n",
    "            m = k[1].split(',')\n",
    "            if len(m) < 7:\n",
    "                pass\n",
    "            else:\n",
    "                _morph = Morph(surface=k[0], base=m[6], pos=m[0], pos1=m[1])\n",
    "                sentence.append(_morph) \n",
    "                if _morph.is_end_of_sentence():\n",
    "                    morphs.append(sentence)\n",
    "                    sentence = []\n",
    "        print(words[:40])\n",
    "    return morphs\n",
    "    \n",
    "necocabocha =  cabocha_list('neco.txt.cabocha')\n",
    "for morph in necocabocha[2]:\n",
    "    print(str(morph))"
   ]
  },
  {
   "cell_type": "code",
   "execution_count": 6,
   "metadata": {
    "collapsed": false
   },
   "outputs": [],
   "source": [
    "class Chunk:\n",
    "    def __init__(self,morphs:list,dst:str,srcs:list):\n",
    "        self.morphs = morphs\n",
    "        self.dst = int(dst)\n",
    "        self.srcs = srcs\n",
    "        \n",
    "    def endofsentence(self):\n",
    "        return self.dst == '-1'\n",
    "    \n",
    "    def __str__(self):\n",
    "        return '{}\\tsrcs{}\\tdst[{}]'.format(self.morphs, self.srcs, self.dst)\n",
    "    \n",
    "    def relations(self):\n",
    "        sent_relation = ''\n",
    "        \n",
    "    \n"
   ]
  },
  {
   "cell_type": "code",
   "execution_count": 7,
   "metadata": {
    "collapsed": false
   },
   "outputs": [
    {
     "name": "stdout",
     "output_type": "stream",
     "text": [
      "ことに\tsrcs[]\tdst[6]\n",
      "吾輩が\tsrcs[]\tdst[3]\n",
      "時々\tsrcs[]\tdst[3]\n",
      "同衾する\tsrcs[1, 2]\tdst[4]\n",
      "小供の\tsrcs[3]\tdst[5]\n",
      "ごときに\tsrcs[4]\tdst[6]\n",
      "至っては\tsrcs[0, 5]\tdst[7]\n",
      "言語同断である。\tsrcs[6]\tdst[-1]\n"
     ]
    }
   ],
   "source": [
    "def cabocha_chunk(analyzed):\n",
    "    with open(analyzed,'r') as cabocha_analyzed:\n",
    "        cabocha_a = cabocha_analyzed.read()\n",
    "        cabocha = cabocha_a.split('\\n')\n",
    "        chunk = []\n",
    "        phrase= ''\n",
    "        phrases = []\n",
    "        chunks = []\n",
    "        sentence = []\n",
    "        sentences = []\n",
    "        del cabocha[-1]\n",
    "        for line in cabocha:\n",
    "            i = line.split()\n",
    "            if i[0] == '*':\n",
    "                chunk.append(i[1])\n",
    "                chunk.append(i[2].replace('D',''))\n",
    "                chunks.append(chunk)\n",
    "                chunk = []\n",
    "                phrases.append(phrase)\n",
    "                phrase = ''\n",
    "            else:\n",
    "                if i[0] != 'EOS':\n",
    "                    phrase += i[0]\n",
    "        del phrases[0]\n",
    "        chun = chunks[:50]\n",
    "        phr = phrases[:50]\n",
    "        for a,b in zip(chunks,phrases):\n",
    "            zipped = [a,b,[]]\n",
    "            sentence.append(zipped)\n",
    "            if a[0] == '0':\n",
    "                sentence.remove(zipped)\n",
    "                sentences.append(sentence)\n",
    "                sentence = []\n",
    "                sentence.append(zipped)\n",
    "        del sentences[0]\n",
    "        ch_sent = []\n",
    "        ch_sents = []\n",
    "        for k in sentences:\n",
    "            for m in k:\n",
    "                if m[0][1] == '-1':\n",
    "                    pass\n",
    "                else:\n",
    "                    num = int(m[0][1])\n",
    "                    num2 = int(m[0][0])\n",
    "                    k[num][2].append(num2)\n",
    "                _chunk = Chunk(morphs=m[1],dst=m[0][1],srcs=m[2])\n",
    "                ch_sent.append(_chunk)\n",
    "            ch_sents.append(ch_sent)\n",
    "            ch_sent = []\n",
    "        return ch_sents\n",
    "                \n",
    "\n",
    "chunked_file = cabocha_chunk('neco.txt.cabocha')\n",
    "for morph in chunked_file[100]:\n",
    "    print(str(morph))"
   ]
  },
  {
   "cell_type": "code",
   "execution_count": 8,
   "metadata": {
    "collapsed": false
   },
   "outputs": [
    {
     "name": "stdout",
     "output_type": "stream",
     "text": [
      "何でも 薄暗い\n",
      "薄暗い 所で\n",
      "じめじめした 所で\n",
      "所で 泣いて\n",
      "ニャーニャー 泣いて\n",
      "泣いて 記憶している\n",
      "いた事だけは 記憶している\n"
     ]
    }
   ],
   "source": [
    "def relations_chunk(analyzed):\n",
    "    with open(analyzed,'r') as cabocha_analyzed:\n",
    "        cabocha_a = cabocha_analyzed.read()\n",
    "        cabocha = cabocha_a.split('\\n')\n",
    "        chunk = []\n",
    "        phrase= ''\n",
    "        phrases = []\n",
    "        chunks = []\n",
    "        sentence = []\n",
    "        sentences = []\n",
    "        del cabocha[-1]\n",
    "        for line in cabocha:\n",
    "            i = line.split()\n",
    "            if i[0] == '*':\n",
    "                chunk.append(i[1])\n",
    "                chunk.append(i[2].replace('D',''))\n",
    "                chunks.append(chunk)\n",
    "                chunk = []\n",
    "                phrases.append(phrase)\n",
    "                phrase = ''\n",
    "            else:\n",
    "                if i[0] == 'EOS':\n",
    "                    pass\n",
    "                else:\n",
    "                    if len(i) > 1 and i[1].split(',')[0] == '記号':\n",
    "                        pass\n",
    "                    else:\n",
    "                        phrase += i[0]\n",
    "        del phrases[0]\n",
    "        chun = chunks[:50]\n",
    "        phr = phrases[:50]\n",
    "        for a,b in zip(chunks,phrases):\n",
    "            zipped = [a,b,[]]\n",
    "            sentence.append(zipped)\n",
    "            if a[0] == '0':\n",
    "                sentence.remove(zipped)\n",
    "                sentences.append(sentence)\n",
    "                sentence = []\n",
    "                sentence.append(zipped)\n",
    "        del sentences[0]\n",
    "        relation = []\n",
    "        relations = []\n",
    "        for k in sentences:\n",
    "            for m in k:\n",
    "                if m[0][1] == '-1':\n",
    "                    pass\n",
    "                else:\n",
    "                    num = int(m[0][1])\n",
    "                    num2 = int(m[0][0])\n",
    "                    relation_phrases = m[1] + ' ' + k[num][1]\n",
    "                    k[num][2].append(num2)\n",
    "                    relation.append(relation_phrases)\n",
    "            relations.append(relation)\n",
    "            relation = []\n",
    "        del relations[0]\n",
    "        return relations\n",
    "                \n",
    "\n",
    "relations_file = relations_chunk('neco.txt.cabocha')\n",
    "for i in relations_file[3]:\n",
    "    print(i)"
   ]
  },
  {
   "cell_type": "code",
   "execution_count": null,
   "metadata": {
    "collapsed": true
   },
   "outputs": [],
   "source": []
  }
 ],
 "metadata": {
  "kernelspec": {
   "display_name": "Python 3",
   "language": "python",
   "name": "python3"
  },
  "language_info": {
   "codemirror_mode": {
    "name": "ipython",
    "version": 3
   },
   "file_extension": ".py",
   "mimetype": "text/x-python",
   "name": "python",
   "nbconvert_exporter": "python",
   "pygments_lexer": "ipython3",
   "version": "3.6.0"
  }
 },
 "nbformat": 4,
 "nbformat_minor": 2
}
