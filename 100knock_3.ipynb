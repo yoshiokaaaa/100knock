{
 "cells": [
  {
   "cell_type": "code",
   "execution_count": 1,
   "metadata": {
    "collapsed": false
   },
   "outputs": [
    {
     "name": "stdout",
     "output_type": "stream",
     "text": [
      "[[Category:イギリス|*]]\n",
      "[[Category:英連邦王国|*]]\n",
      "[[Category:G8加盟国]]\n",
      "[[Category:欧州連合加盟国]]\n",
      "[[Category:海洋国家]]\n",
      "[[Category:君主国]]\n",
      "[[Category:島国|くれいとふりてん]]\n",
      "[[Category:1801年に設立された州・地域]]\n"
     ]
    }
   ],
   "source": [
    "#21. カテゴリ名を含む行を抽出\n",
    "import re\n",
    "\n",
    "with open('uk.txt','rt') as f:\n",
    "    jsonuk = f.read()\n",
    "    uktext = jsonuk.split(\"\\n\")\n",
    "    for line in uktext:\n",
    "        if re.search(r\"Category:\",line):\n",
    "            print(line)"
   ]
  },
  {
   "cell_type": "code",
   "execution_count": 2,
   "metadata": {
    "collapsed": false
   },
   "outputs": [
    {
     "name": "stdout",
     "output_type": "stream",
     "text": [
      "イギリス|*\n",
      "英連邦王国|*\n",
      "G8加盟国\n",
      "欧州連合加盟国\n",
      "海洋国家\n",
      "君主国\n",
      "島国|くれいとふりてん\n",
      "1801年に設立された州・地域\n",
      "イギリス|*\n",
      "英連邦王国|*\n",
      "G8加盟国\n",
      "欧州連合加盟国\n",
      "海洋国家\n",
      "君主国\n",
      "島国|くれいとふりてん\n",
      "1801年に設立された州・地域\n"
     ]
    }
   ],
   "source": [
    "#22. カテゴリ名の抽出\n",
    "import re\n",
    "\n",
    "with open('uk.json','rt') as f:\n",
    "    jsonuk = f.read()\n",
    "    uktext = jsonuk.split(\"\\n\")\n",
    "    for line in uktext:\n",
    "        if re.search(r\"Category:\",line):\n",
    "            print(line[11:-2])\n",
    "\n",
    "import re\n",
    "\n",
    "with open('uk.json','rt') as f:\n",
    "    jsonuk = f.read()\n",
    "    uktext = jsonuk.split(\"\\n\")\n",
    "    for line in uktext:\n",
    "        if re.search(r\"Category:\",line):\n",
    "            print(line.replace(r\"Category:\",\"\")[2:-2])"
   ]
  },
  {
   "cell_type": "code",
   "execution_count": 3,
   "metadata": {
    "collapsed": false
   },
   "outputs": [
    {
     "name": "stdout",
     "output_type": "stream",
     "text": [
      "{'国名': 1, '歴史': 1, '地理': 1, '政治': 1, '外交と軍事': 1, '地方行政区分': 1, '科学技術': 1, '経済': 1, '交通': 1, '通信': 1, '国民': 1, '文化': 1, 'スポーツ': 1, '脚注': 1, '関連項目': 1, '外部リンク': 1, '気候': 2, '主要都市': 2, '鉱業': 2, '農業': 2, '貿易': 2, '通貨': 2, '企業': 2, '道路': 2, '鉄道': 2, '海運': 2, '航空': 2, '言語': 2, '宗教': 2, ' 婚姻 ': 2, '教育': 2, '食文化': 2, '文学': 2, ' 哲学 ': 2, '音楽': 2, '映画': 2, 'コメディ': 2, '国花': 2, '世界遺産': 2, '祝祭日': 2, 'サッカー': 2, '競馬': 2, 'モータースポーツ': 2, 'イギリスのポピュラー音楽': 3}\n"
     ]
    }
   ],
   "source": [
    "#23.セクション構造\n",
    "import re\n",
    "\n",
    "with open('uk.json','rt') as f:\n",
    "    section = []\n",
    "    jsonuk = f.read()\n",
    "    uktext = jsonuk.split(\"\\n\")\n",
    "    for line in uktext:\n",
    "        if re.search(\"==\",line):\n",
    "            section.append(line[1:-1])\n",
    "    section_dict = {}\n",
    "    for word in section:\n",
    "        remove = word.count(\"=\")//2\n",
    "        section_dict.update({word[remove:-remove]:remove})\n",
    "    section_dic = sorted(section_dict.items(),key = lambda x: x[1])\n",
    "    print(dict(section_dic))"
   ]
  },
  {
   "cell_type": "code",
   "execution_count": 5,
   "metadata": {
    "collapsed": false
   },
   "outputs": [
    {
     "name": "stdout",
     "output_type": "stream",
     "text": [
      "ファイル:Royal Coat of Arms of the United Kingdom.svg\n",
      "File:Battle of Waterloo 1815.PNG\n",
      "File:The British Empire.png\n",
      "File:Uk topo en.jpg\n",
      "File:BenNevis2005.jpg\n",
      "File:Elizabeth II greets NASA GSFC employees, May 8, 2007 edit.jpg\n",
      "File:Palace of Westminster, London - Feb 2007.jpg\n",
      "File:David Cameron and Barack Obama at the G20 Summit in Toronto.jpg\n",
      "File:Soldiers Trooping the Colour, 16th June 2007.jpg\n",
      "File:Scotland Parliament Holyrood.jpg\n",
      "File:London.bankofengland.arp.jpg\n",
      "File:City of London skyline from London City Hall - Oct 2008.jpg\n",
      "File:Oil platform in the North SeaPros.jpg\n",
      "File:Eurostar at St Pancras Jan 2008.jpg\n",
      "File:Heathrow T5.jpg\n",
      "File:Anglospeak.svg\n",
      "ファイル:CHANDOS3.jpg\n",
      "ファイル:The Fabs.JPG\n",
      "ファイル:PalaceOfWestminsterAtNight.jpg\n",
      "ファイル:Westminster Abbey - West Door.jpg\n",
      "ファイル:Edinburgh Cockburn St dsc06789.jpg\n",
      "ファイル:Canterbury Cathedral - Portal Nave Cross-spire.jpeg\n",
      "ファイル:Kew Gardens Palm House, London - July 2009.jpg\n",
      "ファイル:2005-06-27 - United Kingdom - England - London - Greenwich.jpg\n",
      "ファイル:Stonehenge2007 07 30.jpg\n",
      "ファイル:Yard2.jpg\n",
      "ファイル:Durham Kathedrale Nahaufnahme.jpg\n",
      "ファイル:Roman Baths in Bath Spa, England - July 2006.jpg\n",
      "ファイル:Fountains Abbey view02 2005-08-27.jpg\n",
      "ファイル:Blenheim Palace IMG 3673.JPG\n",
      "ファイル:Liverpool Pier Head by night.jpg\n",
      "ファイル:Hadrian's Wall view near Greenhead.jpg\n",
      "ファイル:London Tower (1).JPG\n",
      "ファイル:Wembley Stadium, illuminated.jpg\n"
     ]
    }
   ],
   "source": [
    "#24.ファイル参照の抽出\n",
    "import re\n",
    "\n",
    "with open('uk.json','rt') as f:\n",
    "    jsonuk = f.read()\n",
    "    uktext = jsonuk.split(\"\\n\")\n",
    "    for line in uktext:\n",
    "        m = re.search(u\"(ファイル|File):(.*?[|])\",line)\n",
    "        if m:\n",
    "            print(m.group()[:-1])"
   ]
  },
  {
   "cell_type": "code",
   "execution_count": null,
   "metadata": {
    "collapsed": true
   },
   "outputs": [],
   "source": []
  }
 ],
 "metadata": {
  "kernelspec": {
   "display_name": "Python 3",
   "language": "python",
   "name": "python3"
  },
  "language_info": {
   "codemirror_mode": {
    "name": "ipython",
    "version": 3
   },
   "file_extension": ".py",
   "mimetype": "text/x-python",
   "name": "python",
   "nbconvert_exporter": "python",
   "pygments_lexer": "ipython3",
   "version": "3.6.0"
  }
 },
 "nbformat": 4,
 "nbformat_minor": 2
}
