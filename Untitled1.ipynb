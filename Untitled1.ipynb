{
 "cells": [
  {
   "cell_type": "code",
   "execution_count": 221,
   "metadata": {
    "collapsed": false
   },
   "outputs": [],
   "source": [
    "import pandas as pd\n",
    "import random"
   ]
  },
  {
   "cell_type": "code",
   "execution_count": 222,
   "metadata": {
    "collapsed": false
   },
   "outputs": [],
   "source": [
    "excel_file = '俯瞰2018名簿_vfinal.xlsx'\n",
    "df = []\n",
    "file = pd.ExcelFile(excel_file)\n",
    "for sheet in file.sheet_names:\n",
    "    df.append(file.parse(sheet))"
   ]
  },
  {
   "cell_type": "code",
   "execution_count": 223,
   "metadata": {
    "collapsed": false
   },
   "outputs": [],
   "source": [
    "member = list(df[1]['氏名(Name)'])\n",
    "len(member)\n",
    "dic = {}"
   ]
  },
  {
   "cell_type": "code",
   "execution_count": 224,
   "metadata": {
    "collapsed": false
   },
   "outputs": [],
   "source": [
    "def lottery(members):\n",
    "    choice = random.choice(members)\n",
    "    members.remove(choice)\n",
    "    dic.update({str(26-len(members)):choice})\n",
    "    print(choice)\n",
    "    print('残り'+str(len(members))+'人')"
   ]
  },
  {
   "cell_type": "code",
   "execution_count": 260,
   "metadata": {
    "collapsed": false
   },
   "outputs": [
    {
     "name": "stdout",
     "output_type": "stream",
     "text": [
      "矢澤広貴\n",
      "残り0人\n"
     ]
    }
   ],
   "source": [
    "lottery(member)"
   ]
  },
  {
   "cell_type": "code",
   "execution_count": 259,
   "metadata": {
    "collapsed": false
   },
   "outputs": [
    {
     "data": {
      "text/plain": [
       "{'1': '寺内大貴',\n",
       " '10': '林晃平',\n",
       " '11': '岡崎恭直',\n",
       " '12': 'GONG XINYING',\n",
       " '13': '遠山吾一',\n",
       " '14': '山口直樹',\n",
       " '15': '中元雪絵',\n",
       " '16': '永幡一樹',\n",
       " '17': '中井亮太朗',\n",
       " '18': '高嶺航',\n",
       " '19': '佐藤優樹',\n",
       " '2': '高橋啓太',\n",
       " '20': '新井悠斗',\n",
       " '21': '鈴木凱亜',\n",
       " '22': '八幡俊輝',\n",
       " '23': '多田羅千里',\n",
       " '24': '顧 潔うん',\n",
       " '25': '伊藤達哉',\n",
       " '3': '箭川展',\n",
       " '4': '郝 聡宇 （カク ソウウ）',\n",
       " '5': '遠藤真之',\n",
       " '6': '三浦健',\n",
       " '7': '鷲尾拓哉',\n",
       " '8': 'Chen Nancy',\n",
       " '9': '池内里穂'}"
      ]
     },
     "execution_count": 259,
     "metadata": {},
     "output_type": "execute_result"
    }
   ],
   "source": [
    "dic"
   ]
  },
  {
   "cell_type": "code",
   "execution_count": null,
   "metadata": {
    "collapsed": true
   },
   "outputs": [],
   "source": [
    "高嶺　佐藤　シンエン　ジエン　ひろたか"
   ]
  }
 ],
 "metadata": {
  "kernelspec": {
   "display_name": "Python 3",
   "language": "python",
   "name": "python3"
  },
  "language_info": {
   "codemirror_mode": {
    "name": "ipython",
    "version": 3
   },
   "file_extension": ".py",
   "mimetype": "text/x-python",
   "name": "python",
   "nbconvert_exporter": "python",
   "pygments_lexer": "ipython3",
   "version": "3.6.0"
  }
 },
 "nbformat": 4,
 "nbformat_minor": 2
}
