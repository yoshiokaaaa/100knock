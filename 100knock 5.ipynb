{
 "cells": [
  {
   "cell_type": "code",
   "execution_count": 2,
   "metadata": {
    "collapsed": false
   },
   "outputs": [],
   "source": [
    "import CaboCha\n",
    "import pydotplus\n",
    "import subprocess"
   ]
  },
  {
   "cell_type": "code",
   "execution_count": 3,
   "metadata": {
    "collapsed": false
   },
   "outputs": [],
   "source": [
    "def cabocha_analyze(input_file,output_file):\n",
    "    c = CaboCha.Parser()\n",
    "    with open(input_file,'r') as inputfile:\n",
    "        with open(output_file,'wt',encoding='utf-8') as outputfile:\n",
    "            for line in inputfile:\n",
    "                tree = c.parse(line.strip())\n",
    "                outputfile.write(tree.toString(CaboCha.FORMAT_LATTICE))\n",
    "\n",
    "cabocha_analyze('neco.txt', 'neco.txt.cabocha')"
   ]
  },
  {
   "cell_type": "code",
   "execution_count": 4,
   "metadata": {
    "collapsed": false
   },
   "outputs": [],
   "source": [
    "class Morph:\n",
    "    def __init__(self,surface,base,pos,pos1):\n",
    "        self.surface = surface\n",
    "        self.base = base\n",
    "        self.pos = pos\n",
    "        self.pos1 = pos1\n",
    "    \n",
    "    def is_end_of_sentence(self):\n",
    "        return self.pos1 == '句点'\n",
    "    \n",
    "    def __str__(self):\n",
    "        return 'surface: {}, base: {}, pos: {}, pos1: {}'.format(self.surface, self.base, self.pos, self.pos1)"
   ]
  },
  {
   "cell_type": "code",
   "execution_count": 7,
   "metadata": {
    "collapsed": false
   },
   "outputs": [
    {
     "name": "stdout",
     "output_type": "stream",
     "text": [
      "[[<__main__.Morph object at 0x10eb4d978>], [<__main__.Morph object at 0x10eb4d780>], [<__main__.Morph object at 0x10ea2deb8>], [<__main__.Morph object at 0x10ea2dda0>], [<__main__.Morph object at 0x10ea2da90>], [<__main__.Morph object at 0x10ea2dc50>], [<__main__.Morph object at 0x10ea2def0>], [<__main__.Morph object at 0x10e7b9eb8>], [<__main__.Morph object at 0x10e7b9e48>], [<__main__.Morph object at 0x10e7b9f60>]]\n",
      "[<__main__.Morph object at 0x10eb4d780>]\n",
      "surface: 吾輩, base: 吾輩, pos: 名詞, pos1: 代名詞\n"
     ]
    }
   ],
   "source": [
    "def cabocha_dic(analyzed):\n",
    "    with open(analyzed,'r') as cabocha_analyzed:\n",
    "        cabocha_a = cabocha_analyzed.read()\n",
    "        words = []\n",
    "        sentence = []\n",
    "        morphs = []\n",
    "        cabocha = cabocha_a.split('\\n')\n",
    "        del cabocha[-1]\n",
    "        for line in cabocha:\n",
    "            i = line.split()\n",
    "            if i[0] == '*' or i[0] == 'EOS':\n",
    "                pass\n",
    "            else:\n",
    "                words.append(i)\n",
    "        for k in words:\n",
    "            m = k[1].split(',')\n",
    "            if len(m) < 7:\n",
    "                del m\n",
    "            else:\n",
    "                _morph = Morph(surface = k[0],base = m[6], pos = m[0],pos1 = m[1])\n",
    "                sentence.append(_morph) \n",
    "                if _morph.is_end_of_sentence:\n",
    "                    morphs.append(sentence)\n",
    "                    sentence = []\n",
    "        print(morphs[:10])\n",
    "    return morphs\n",
    "    \n",
    "necocabocha =  cabocha_dic('neco.txt.cabocha')\n",
    "print(str(necocabocha[1]))\n",
    "for morph in necocabocha[1]:\n",
    "    print(str(morph))"
   ]
  },
  {
   "cell_type": "code",
   "execution_count": null,
   "metadata": {
    "collapsed": true
   },
   "outputs": [],
   "source": [
    "                if _morph.is_end_of_sentence:\n",
    "                    morphs.append(sentence)\n",
    "                    sentence = []"
   ]
  }
 ],
 "metadata": {
  "kernelspec": {
   "display_name": "Python 3",
   "language": "python",
   "name": "python3"
  },
  "language_info": {
   "codemirror_mode": {
    "name": "ipython",
    "version": 3
   },
   "file_extension": ".py",
   "mimetype": "text/x-python",
   "name": "python",
   "nbconvert_exporter": "python",
   "pygments_lexer": "ipython3",
   "version": "3.6.0"
  }
 },
 "nbformat": 4,
 "nbformat_minor": 2
}
