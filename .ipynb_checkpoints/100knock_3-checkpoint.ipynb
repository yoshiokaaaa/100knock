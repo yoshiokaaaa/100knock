{
 "cells": [
  {
   "cell_type": "code",
   "execution_count": 1,
   "metadata": {
    "collapsed": false
   },
   "outputs": [
    {
     "name": "stdout",
     "output_type": "stream",
     "text": [
      "[[Category:イギリス|*]]\n",
      "[[Category:英連邦王国|*]]\n",
      "[[Category:G8加盟国]]\n",
      "[[Category:欧州連合加盟国]]\n",
      "[[Category:海洋国家]]\n",
      "[[Category:君主国]]\n",
      "[[Category:島国|くれいとふりてん]]\n",
      "[[Category:1801年に設立された州・地域]]\n"
     ]
    }
   ],
   "source": [
    "#21. カテゴリ名を含む行を抽出\n",
    "import re\n",
    "\n",
    "with open('uk.txt','rt') as f:\n",
    "    jsonuk = f.read()\n",
    "    uktext = jsonuk.split(\"\\n\")\n",
    "    for line in uktext:\n",
    "        if re.search(r\"Category:\",line):\n",
    "            print(line)"
   ]
  },
  {
   "cell_type": "code",
   "execution_count": 2,
   "metadata": {
    "collapsed": false
   },
   "outputs": [
    {
     "name": "stdout",
     "output_type": "stream",
     "text": [
      "イギリス|*\n",
      "英連邦王国|*\n",
      "G8加盟国\n",
      "欧州連合加盟国\n",
      "海洋国家\n",
      "君主国\n",
      "島国|くれいとふりてん\n",
      "1801年に設立された州・地域\n",
      "イギリス|*\n",
      "英連邦王国|*\n",
      "G8加盟国\n",
      "欧州連合加盟国\n",
      "海洋国家\n",
      "君主国\n",
      "島国|くれいとふりてん\n",
      "1801年に設立された州・地域\n"
     ]
    }
   ],
   "source": [
    "#22. カテゴリ名の抽出\n",
    "import re\n",
    "\n",
    "with open('uk.json','rt') as f:\n",
    "    jsonuk = f.read()\n",
    "    uktext = jsonuk.split(\"\\n\")\n",
    "    for line in uktext:\n",
    "        if re.search(r\"Category:\",line):\n",
    "            print(line[11:-2])\n",
    "\n",
    "import re\n",
    "\n",
    "with open('uk.json','rt') as f:\n",
    "    jsonuk = f.read()\n",
    "    uktext = jsonuk.split(\"\\n\")\n",
    "    for line in uktext:\n",
    "        if re.search(r\"Category:\",line):\n",
    "            print(line.replace(r\"Category:\",\"\")[2:-2])"
   ]
  },
  {
   "cell_type": "code",
   "execution_count": 3,
   "metadata": {
    "collapsed": false
   },
   "outputs": [
    {
     "name": "stdout",
     "output_type": "stream",
     "text": [
      "{'国名': 1, '歴史': 1, '地理': 1, '政治': 1, '外交と軍事': 1, '地方行政区分': 1, '科学技術': 1, '経済': 1, '交通': 1, '通信': 1, '国民': 1, '文化': 1, 'スポーツ': 1, '脚注': 1, '関連項目': 1, '外部リンク': 1, '気候': 2, '主要都市': 2, '鉱業': 2, '農業': 2, '貿易': 2, '通貨': 2, '企業': 2, '道路': 2, '鉄道': 2, '海運': 2, '航空': 2, '言語': 2, '宗教': 2, ' 婚姻 ': 2, '教育': 2, '食文化': 2, '文学': 2, ' 哲学 ': 2, '音楽': 2, '映画': 2, 'コメディ': 2, '国花': 2, '世界遺産': 2, '祝祭日': 2, 'サッカー': 2, '競馬': 2, 'モータースポーツ': 2, 'イギリスのポピュラー音楽': 3}\n"
     ]
    }
   ],
   "source": [
    "#23.セクション構造\n",
    "import re\n",
    "\n",
    "with open('uk.json','rt') as f:\n",
    "    section = []\n",
    "    jsonuk = f.read()\n",
    "    uktext = jsonuk.split(\"\\n\")\n",
    "    for line in uktext:\n",
    "        if re.search(\"==\",line):\n",
    "            section.append(line[1:-1])\n",
    "    section_dict = {}\n",
    "    for word in section:\n",
    "        remove = word.count(\"=\")//2\n",
    "        section_dict.update({word[remove:-remove]:remove})\n",
    "    section_dic = sorted(section_dict.items(),key = lambda x: x[1])\n",
    "    print(dict(section_dic))"
   ]
  },
  {
   "cell_type": "code",
   "execution_count": 5,
   "metadata": {
    "collapsed": false
   },
   "outputs": [
    {
     "name": "stdout",
     "output_type": "stream",
     "text": [
      "ファイル:Royal Coat of Arms of the United Kingdom.svg\n",
      "File:Battle of Waterloo 1815.PNG\n",
      "File:The British Empire.png\n",
      "File:Uk topo en.jpg\n",
      "File:BenNevis2005.jpg\n",
      "File:Elizabeth II greets NASA GSFC employees, May 8, 2007 edit.jpg\n",
      "File:Palace of Westminster, London - Feb 2007.jpg\n",
      "File:David Cameron and Barack Obama at the G20 Summit in Toronto.jpg\n",
      "File:Soldiers Trooping the Colour, 16th June 2007.jpg\n",
      "File:Scotland Parliament Holyrood.jpg\n",
      "File:London.bankofengland.arp.jpg\n",
      "File:City of London skyline from London City Hall - Oct 2008.jpg\n",
      "File:Oil platform in the North SeaPros.jpg\n",
      "File:Eurostar at St Pancras Jan 2008.jpg\n",
      "File:Heathrow T5.jpg\n",
      "File:Anglospeak.svg\n",
      "ファイル:CHANDOS3.jpg\n",
      "ファイル:The Fabs.JPG\n",
      "ファイル:PalaceOfWestminsterAtNight.jpg\n",
      "ファイル:Westminster Abbey - West Door.jpg\n",
      "ファイル:Edinburgh Cockburn St dsc06789.jpg\n",
      "ファイル:Canterbury Cathedral - Portal Nave Cross-spire.jpeg\n",
      "ファイル:Kew Gardens Palm House, London - July 2009.jpg\n",
      "ファイル:2005-06-27 - United Kingdom - England - London - Greenwich.jpg\n",
      "ファイル:Stonehenge2007 07 30.jpg\n",
      "ファイル:Yard2.jpg\n",
      "ファイル:Durham Kathedrale Nahaufnahme.jpg\n",
      "ファイル:Roman Baths in Bath Spa, England - July 2006.jpg\n",
      "ファイル:Fountains Abbey view02 2005-08-27.jpg\n",
      "ファイル:Blenheim Palace IMG 3673.JPG\n",
      "ファイル:Liverpool Pier Head by night.jpg\n",
      "ファイル:Hadrian's Wall view near Greenhead.jpg\n",
      "ファイル:London Tower (1).JPG\n",
      "ファイル:Wembley Stadium, illuminated.jpg\n"
     ]
    }
   ],
   "source": [
    "#24.ファイル参照の抽出\n",
    "import re\n",
    "\n",
    "with open('uk.json','rt') as f:\n",
    "    jsonuk = f.read()\n",
    "    uktext = jsonuk.split(\"\\n\")\n",
    "    for line in uktext:\n",
    "        m = re.search(u\"(ファイル|File):(.*?[|])\",line)\n",
    "        if m:\n",
    "            print(m.group()[:-1])"
   ]
  },
  {
   "cell_type": "code",
   "execution_count": 1,
   "metadata": {
    "collapsed": false
   },
   "outputs": [
    {
     "name": "stdout",
     "output_type": "stream",
     "text": [
      "en\n",
      "{'略名': 'イギリス', '日本語国名': 'グレートブリテン及び北アイルランド連合王国', '公式国名': '{{lang', '国旗画像': 'Flag of the United Kingdom.svg', '国章画像': '[[ファイル:Royal Coat of Arms of the United Kingdom.svg', '国章リンク': '（[[イギリスの国章', '標語': '{{lang', '国歌': '[[女王陛下万歳', '位置画像': 'Location_UK_EU_Europe_001.svg', '公用語': '[[英語]]（事実上）', '首都': '[[ロンドン]]', '最大都市': 'ロンドン', '元首等肩書': '[[イギリスの君主', '元首等氏名': '[[エリザベス2世]]', '首相等肩書': '[[イギリスの首相', '首相等氏名': '[[デーヴィッド・キャメロン]]', '面積順位': '76', '面積大きさ': '1 E11', '面積値': '244,820', '水面積率': '1.3%', '人口統計年': '2011', '人口順位': '22', '人口大きさ': '1 E7', '人口値': '63,181,775<ref>[http://esa.un.org/unpd/wpp/Excel-Data/population.htm United Nations Department of Economic and Social Affairs>Population Division>Data>Population>Total Population]</ref>', '人口密度値': '246', 'GDP統計年元': '2012', 'GDP値元': '1兆5478億<ref name=\"imf-statistics-gdp\">[http://www.imf.org/external/pubs/ft/weo/2012/02/weodata/weorept.aspx?pr.x=70&pr.y=13&sy=2010&ey=2012&scsm=1&ssd=1&sort=country&ds=.&br=1&c=112&s=NGDP%2CNGDPD%2CPPPGDP%2CPPPPC&grp=0&a= IMF>Data and Statistics>World Economic Outlook Databases>By Countrise>United Kingdom]</ref>', 'GDP統計年MER': '2012', 'GDP順位MER': '5', 'GDP値MER': '2兆4337億<ref name=\"imf-statistics-gdp\" />', 'GDP統計年': '2012', 'GDP順位': '6', 'GDP値': '2兆3162億<ref name=\"imf-statistics-gdp\" />', 'GDP/人': '36,727<ref name=\"imf-statistics-gdp\" />', '建国形態': '建国', '確立形態1': '[[イングランド王国]]／[[スコットランド王国]]<br />（両国とも[[連合法 (1707年)', '確立年月日1': '[[927年]]／[[843年]]', '確立形態2': '[[グレートブリテン王国]]建国<br />（[[連合法 (1707年)', '確立年月日2': '[[1707年]]', '確立形態3': '[[グレートブリテン及びアイルランド連合王国]]建国<br />（[[連合法 (1800年)', '確立年月日3': '[[1801年]]', '確立形態4': \"現在の国号「'''グレートブリテン及び北アイルランド連合王国'''」に変更\", '確立年月日4': '[[1927年]]', '通貨': '[[スターリング・ポンド', '通貨コード': 'GBP', '時間帯': '±0', '夏時間': '+1', 'ISO 3166-1': 'GB / GBR', 'ccTLD': '[[.uk]] / [[.gb]]<ref>使用は.ukに比べ圧倒的少数。</ref>', '国際電話番号': '44', '注記': '<references />}}'}\n"
     ]
    }
   ],
   "source": [
    "#25\n",
    "import re\n",
    "\n",
    "with open('uk.json','rt') as f:\n",
    "    jsonuk = f.read()\n",
    "    m = re.search(\"{{基礎情報.*(\\n.*?)+\\n}}\",jsonuk)\n",
    "    if m:\n",
    "        basic_info = (m.group())\n",
    "    basic = basic_info.split(\"|\")\n",
    "    basic_dic = {}\n",
    "    print(basic[4])\n",
    "    for i in basic:\n",
    "        if re.search(\"=\",i):\n",
    "            basic_key = i.split(\" = \")[0]\n",
    "            basic_value = i.split(\" = \")[1].replace(\"\\n\",\"\")\n",
    "            basic_dic.update({basic_key:basic_value})\n",
    "    print(basic_dic)"
   ]
  },
  {
   "cell_type": "code",
   "execution_count": 2,
   "metadata": {
    "collapsed": false
   },
   "outputs": [
    {
     "name": "stdout",
     "output_type": "stream",
     "text": [
      "{'略名': 'イギリス', '日本語国名': 'グレートブリテン及び北アイルランド連合王国', '公式国名': '{{lang', '国旗画像': 'Flag of the United Kingdom.svg', '国章画像': '[[ファイル:Royal Coat of Arms of the United Kingdom.svg', '国章リンク': '（[[イギリスの国章', '標語': '{{lang', '国歌': '[[女王陛下万歳', '位置画像': 'Location_UK_EU_Europe_001.svg', '公用語': '[[英語]]（事実上）', '首都': '[[ロンドン]]', '最大都市': 'ロンドン', '元首等肩書': '[[イギリスの君主', '元首等氏名': '[[エリザベス2世]]', '首相等肩書': '[[イギリスの首相', '首相等氏名': '[[デーヴィッド・キャメロン]]', '面積順位': '76', '面積大きさ': '1 E11', '面積値': '244,820', '水面積率': '1.3%', '人口統計年': '2011', '人口順位': '22', '人口大きさ': '1 E7', '人口値': '63,181,775<ref>[http://esa.un.org/unpd/wpp/Excel-Data/population.htm United Nations Department of Economic and Social Affairs>Population Division>Data>Population>Total Population]</ref>', '人口密度値': '246', 'GDP統計年元': '2012', 'GDP値元': '1兆5478億<ref name=\"imf-statistics-gdp\">[http://www.imf.org/external/pubs/ft/weo/2012/02/weodata/weorept.aspx?pr.x=70&pr.y=13&sy=2010&ey=2012&scsm=1&ssd=1&sort=country&ds=.&br=1&c=112&s=NGDP%2CNGDPD%2CPPPGDP%2CPPPPC&grp=0&a= IMF>Data and Statistics>World Economic Outlook Databases>By Countrise>United Kingdom]</ref>', 'GDP統計年MER': '2012', 'GDP順位MER': '5', 'GDP値MER': '2兆4337億<ref name=\"imf-statistics-gdp\" />', 'GDP統計年': '2012', 'GDP順位': '6', 'GDP値': '2兆3162億<ref name=\"imf-statistics-gdp\" />', 'GDP/人': '36,727<ref name=\"imf-statistics-gdp\" />', '建国形態': '建国', '確立形態1': '[[イングランド王国]]／[[スコットランド王国]]<br />（両国とも[[連合法 (1707年)', '確立年月日1': '[[927年]]／[[843年]]', '確立形態2': '[[グレートブリテン王国]]建国<br />（[[連合法 (1707年)', '確立年月日2': '[[1707年]]', '確立形態3': '[[グレートブリテン及びアイルランド連合王国]]建国<br />（[[連合法 (1800年)', '確立年月日3': '[[1801年]]', '確立形態4': '現在の国号「グレートブリテン及び北アイルランド連合王国」に変更', '確立年月日4': '[[1927年]]', '通貨': '[[スターリング・ポンド', '通貨コード': 'GBP', '時間帯': '±0', '夏時間': '+1', 'ISO 3166-1': 'GB / GBR', 'ccTLD': '[[.uk]] / [[.gb]]<ref>使用は.ukに比べ圧倒的少数。</ref>', '国際電話番号': '44', '注記': '<references />}}'}\n"
     ]
    }
   ],
   "source": [
    "#26\n",
    "import re\n",
    "\n",
    "with open('uk.json','rt') as f:\n",
    "    jsonuk = f.read()\n",
    "    m = re.search(\"{{基礎情報.*(\\n.*?)+\\n}}\",jsonuk)\n",
    "    if m:\n",
    "        basic_info = (m.group())\n",
    "    basic = basic_info.split(\"|\")\n",
    "    basic_dic = {}\n",
    "    for i in basic:\n",
    "        if re.search(\"\\'+\",i):\n",
    "            i = re.sub(\"\\'+\",\"\",i)\n",
    "        if re.search(\"=\",i):\n",
    "            basic_key = i.split(\" = \")[0]\n",
    "            basic_value = i.split(\" = \")[1].replace(\"\\n\",\"\")\n",
    "            basic_dic.update({basic_key:basic_value})\n",
    "    print(basic_dic)"
   ]
  },
  {
   "cell_type": "code",
   "execution_count": 3,
   "metadata": {
    "collapsed": false
   },
   "outputs": [
    {
     "name": "stdout",
     "output_type": "stream",
     "text": [
      "{'略名': 'イギリス', '日本語国名': 'グレートブリテン及び北アイルランド連合王国', '公式国名': '{{lang', '国旗画像': 'Flag of the United Kingdom.svg', '国章画像': 'ファイル:Royal Coat of Arms of the United Kingdom.svg', '国章リンク': '（イギリスの国章', '標語': '{{lang', '国歌': '女王陛下万歳', '位置画像': 'Location_UK_EU_Europe_001.svg', '公用語': '英語（事実上）', '首都': 'ロンドン', '最大都市': 'ロンドン', '元首等肩書': 'イギリスの君主', '元首等氏名': 'エリザベス2世', '首相等肩書': 'イギリスの首相', '首相等氏名': 'デーヴィッド・キャメロン', '面積順位': '76', '面積大きさ': '1 E11', '面積値': '244,820', '水面積率': '1.3%', '人口統計年': '2011', '人口順位': '22', '人口大きさ': '1 E7', '人口値': '63,181,775<ref>http://esa.un.org/unpd/wpp/Excel-Data/population.htm United Nations Department of Economic and Social Affairs>Population Division>Data>Population>Total Population</ref>', '人口密度値': '246', 'GDP統計年元': '2012', 'GDP値元': '1兆5478億<ref name=\"imf-statistics-gdp\">http://www.imf.org/external/pubs/ft/weo/2012/02/weodata/weorept.aspx?pr.x=70&pr.y=13&sy=2010&ey=2012&scsm=1&ssd=1&sort=country&ds=.&br=1&c=112&s=NGDP%2CNGDPD%2CPPPGDP%2CPPPPC&grp=0&a= IMF>Data and Statistics>World Economic Outlook Databases>By Countrise>United Kingdom</ref>', 'GDP統計年MER': '2012', 'GDP順位MER': '5', 'GDP値MER': '2兆4337億<ref name=\"imf-statistics-gdp\" />', 'GDP統計年': '2012', 'GDP順位': '6', 'GDP値': '2兆3162億<ref name=\"imf-statistics-gdp\" />', 'GDP/人': '36,727<ref name=\"imf-statistics-gdp\" />', '建国形態': '建国', '確立形態1': 'イングランド王国／スコットランド王国<br />（両国とも連合法 (1707年)', '確立年月日1': '927年／843年', '確立形態2': 'グレートブリテン王国建国<br />（連合法 (1707年)', '確立年月日2': '1707年', '確立形態3': 'グレートブリテン及びアイルランド連合王国建国<br />（連合法 (1800年)', '確立年月日3': '1801年', '確立形態4': '現在の国号「グレートブリテン及び北アイルランド連合王国」に変更', '確立年月日4': '1927年', '通貨': 'スターリング・ポンド', '通貨コード': 'GBP', '時間帯': '±0', '夏時間': '+1', 'ISO 3166-1': 'GB / GBR', 'ccTLD': '.uk / .gb<ref>使用は.ukに比べ圧倒的少数。</ref>', '国際電話番号': '44', '注記': '<references />}}'}\n"
     ]
    }
   ],
   "source": [
    "#27\n",
    "import re\n",
    "\n",
    "with open('uk.json','rt') as f:\n",
    "    jsonuk = f.read()\n",
    "    m = re.search(\"{{基礎情報.*(\\n.*?)+\\n}}\",jsonuk)\n",
    "    if m:\n",
    "        basic_info = (m.group())\n",
    "    basic = basic_info.split(\"|\")\n",
    "    basic_dic = {}\n",
    "    for i in basic:\n",
    "        i = re.sub(\"\\[+\",\"\",i)\n",
    "        i = re.sub(\"\\]+\",\"\",i)\n",
    "        i = re.sub(\"\\'+\",\"\",i)\n",
    "        if re.search(\"=\",i):\n",
    "            basic_key = i.split(\" = \")[0]\n",
    "            basic_value = i.split(\" = \")[1].replace(\"\\n\",\"\")\n",
    "            basic_dic.update({basic_key:basic_value})\n",
    "    print(basic_dic)"
   ]
  },
  {
   "cell_type": "code",
   "execution_count": 4,
   "metadata": {
    "collapsed": false
   },
   "outputs": [
    {
     "name": "stdout",
     "output_type": "stream",
     "text": [
      "{'略名': 'イギリス', '日本語国名': 'グレートブリテン及び北アイルランド連合王国', '公式国名': '{{lang', '国旗画像': 'Flag of the United Kingdom.svg', '国章画像': 'ファイル:Royal Coat of Arms of the United Kingdom.svg', '国章リンク': '（イギリスの国章', '標語': '{{lang', '国歌': '女王陛下万歳', '位置画像': 'Location_UK_EU_Europe_001.svg', '公用語': '英語（事実上）', '首都': 'ロンドン', '最大都市': 'ロンドン', '元首等肩書': 'イギリスの君主', '元首等氏名': 'エリザベス2世', '首相等肩書': 'イギリスの首相', '首相等氏名': 'デーヴィッド・キャメロン', '面積順位': '76', '面積大きさ': '1 E11', '面積値': '244,820', '水面積率': '1.3%', '人口統計年': '2011', '人口順位': '22', '人口大きさ': '1 E7', '人口値': '63,181,775', '人口密度値': '246', 'GDP統計年元': '2012', 'GDP値元': '1兆5478億', 'GDP統計年MER': '2012', 'GDP順位MER': '5', 'GDP値MER': '2兆4337億', 'GDP統計年': '2012', 'GDP順位': '6', 'GDP値': '2兆3162億', 'GDP/人': '36,727', '建国形態': '建国', '確立形態1': 'イングランド王国／スコットランド王国（両国とも連合法 (1707年)', '確立年月日1': '927年／843年', '確立形態2': 'グレートブリテン王国建国（連合法 (1707年)', '確立年月日2': '1707年', '確立形態3': 'グレートブリテン及びアイルランド連合王国建国（連合法 (1800年)', '確立年月日3': '1801年', '確立形態4': '現在の国号「グレートブリテン及び北アイルランド連合王国」に変更', '確立年月日4': '1927年', '通貨': 'スターリング・ポンド', '通貨コード': 'GBP', '時間帯': '±0', '夏時間': '+1', 'ISO 3166-1': 'GB / GBR', 'ccTLD': '.uk / .gb', '国際電話番号': '44', '注記': '}}'}\n"
     ]
    }
   ],
   "source": [
    "#28\n",
    "import re\n",
    "\n",
    "with open('uk.json','rt') as f:\n",
    "    jsonuk = f.read()\n",
    "    m = re.search(\"{{基礎情報.*(\\n.*?)+\\n}}\",jsonuk)\n",
    "    if m:\n",
    "        basic_info = (m.group())\n",
    "    basic = basic_info.split(\"|\")\n",
    "    basic_dic = {}\n",
    "    for i in basic:\n",
    "        i = re.sub(\"\\[+\",\"\",i)\n",
    "        i = re.sub(\"\\]+\",\"\",i)\n",
    "        i = re.sub(\"\\'+\",\"\",i)\n",
    "        i = re.sub(\"<.*>\",\"\",i)\n",
    "        i = re.sub(\"\\[.*\\]\",\"\",i)\n",
    "        if re.search(\"=\",i):\n",
    "            basic_key = i.split(\" = \")[0]\n",
    "            basic_value = i.split(\" = \")[1].replace(\"\\n\",\"\")\n",
    "            basic_dic.update({basic_key:basic_value})\n",
    "    print(basic_dic)\n",
    "    "
   ]
  },
  {
   "cell_type": "code",
   "execution_count": 7,
   "metadata": {
    "collapsed": false
   },
   "outputs": [
    {
     "name": "stdout",
     "output_type": "stream",
     "text": [
      "{'continue': {'iistart': '2007-09-03T09:51:34Z', 'continue': '||'}, 'query': {'pages': {'-1': {'ns': 6, 'title': 'File:Flag of the United Kingdom.svg', 'missing': '', 'known': '', 'imagerepository': 'shared', 'imageinfo': [{'url': 'https://upload.wikimedia.org/wikipedia/commons/a/ae/Flag_of_the_United_Kingdom.svg', 'descriptionurl': 'https://commons.wikimedia.org/wiki/File:Flag_of_the_United_Kingdom.svg', 'descriptionshorturl': 'https://commons.wikimedia.org/w/index.php?curid=347935'}]}}}}\n",
      "https://upload.wikimedia.org/wikipedia/commons/a/ae/Flag_of_the_United_Kingdom.svg\n"
     ]
    }
   ],
   "source": [
    "#29\n",
    "import re\n",
    "import requests\n",
    "import json\n",
    "\n",
    "with open('uk.json','rt') as f:\n",
    "    jsonuk = f.read()\n",
    "    m = re.search(\"{{基礎情報.*(\\n.*?)+\\n}}\",jsonuk)\n",
    "    if m:\n",
    "        basic_info = (m.group())\n",
    "    basic = basic_info.split(\"|\")\n",
    "    basic_dic = {}\n",
    "    for i in basic:\n",
    "        i = re.sub(\"\\[+\",\"\",i)\n",
    "        i = re.sub(\"\\]+\",\"\",i)\n",
    "        i = re.sub(\"\\'+\",\"\",i)\n",
    "        i = re.sub(\"<.*>\",\"\",i)\n",
    "        i = re.sub(\"\\[.*\\]\",\"\",i)\n",
    "        if re.search(\"=\",i):\n",
    "            basic_key = i.split(\" = \")[0]\n",
    "            basic_value = i.split(\" = \")[1].replace(\"\\n\",\"\")\n",
    "            basic_dic.update({basic_key:basic_value})\n",
    "    url = 'https://www.mediawiki.org/w/api.php'\n",
    "    payload = {\"action\": \"query\",\n",
    "           \"titles\": \"File:{}\".format(basic_dic[u\"国旗画像\"]),\n",
    "           \"prop\": \"imageinfo\",\n",
    "           \"format\": \"json\",\n",
    "           \"iiprop\": \"url\"}\n",
    "    json_data = requests.get(url, params=payload).json()\n",
    "    print(json_data)\n",
    "    url_flag = json_data[\"query\"][\"pages\"][\"-1\"][\"imageinfo\"]\n",
    "    print(url_flag[0][\"url\"])"
   ]
  },
  {
   "cell_type": "code",
   "execution_count": null,
   "metadata": {
    "collapsed": true
   },
   "outputs": [],
   "source": []
  }
 ],
 "metadata": {
  "kernelspec": {
   "display_name": "Python 3",
   "language": "python",
   "name": "python3"
  },
  "language_info": {
   "codemirror_mode": {
    "name": "ipython",
    "version": 3
   },
   "file_extension": ".py",
   "mimetype": "text/x-python",
   "name": "python",
   "nbconvert_exporter": "python",
   "pygments_lexer": "ipython3",
   "version": "3.6.0"
  }
 },
 "nbformat": 4,
 "nbformat_minor": 2
}
