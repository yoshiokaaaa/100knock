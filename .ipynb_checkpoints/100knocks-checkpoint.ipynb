{
 "cells": [
  {
   "cell_type": "code",
   "execution_count": 3,
   "metadata": {
    "collapsed": false
   },
   "outputs": [
    {
     "data": {
      "text/plain": [
       "'desserts'"
      ]
     },
     "execution_count": 3,
     "metadata": {},
     "output_type": "execute_result"
    }
   ],
   "source": [
    "a = \"stressed\"\n",
    "a[::-1]\n"
   ]
  },
  {
   "cell_type": "code",
   "execution_count": 4,
   "metadata": {
    "collapsed": false
   },
   "outputs": [
    {
     "data": {
      "text/plain": [
       "'パトカー'"
      ]
     },
     "execution_count": 4,
     "metadata": {},
     "output_type": "execute_result"
    }
   ],
   "source": [
    "vehicle = \"パタトクカシーー\"\n",
    "vehicle[::2]\n"
   ]
  },
  {
   "cell_type": "code",
   "execution_count": 11,
   "metadata": {
    "collapsed": false
   },
   "outputs": [
    {
     "data": {
      "text/plain": [
       "'パタトクカシーー'"
      ]
     },
     "execution_count": 11,
     "metadata": {},
     "output_type": "execute_result"
    }
   ],
   "source": [
    "patroll = \"パトカー\"\n",
    "taxi = \"タクシー\"\n",
    "s = \"\".join(i + j for i,j in zip(patroll,taxi))\n",
    "s"
   ]
  },
  {
   "cell_type": "code",
   "execution_count": 21,
   "metadata": {
    "collapsed": false
   },
   "outputs": [
    {
     "name": "stdout",
     "output_type": "stream",
     "text": [
      "[3, 1, 4, 1, 5, 9, 2, 6, 5, 3, 5, 8, 9, 7, 9]\n"
     ]
    }
   ],
   "source": [
    "circle = \"Now I need a drink, alcoholic of course, after the heavy lectures involving quantum mechanics.\"\n",
    "circle_per = [len(i.strip(\",.\")) for i in circle.split()]\n",
    "print(circle_per)\n"
   ]
  },
  {
   "cell_type": "code",
   "execution_count": 2,
   "metadata": {
    "collapsed": false
   },
   "outputs": [
    {
     "name": "stdout",
     "output_type": "stream",
     "text": [
      "{'H': 1, 'He': 2, 'Li': 3, 'Be': 4, 'B': 5, 'C': 6, 'N': 7, 'O': 8, 'F': 9, 'Ne': 10, 'Na': 11, 'Mi': 12, 'Al': 13, 'Si': 14, 'P': 15, 'S': 16, 'Cl': 17, 'Ar': 18, 'K': 19, 'Ca': 20}\n"
     ]
    }
   ],
   "source": [
    "atom = \"Hi He Lied Because Boron Could Not Oxidize Fluorine. New Nations Might Also Sign Peace Security Clause. Arthur King Can.\"\n",
    "atom_list = atom.strip(\",.\").split()\n",
    "atom_list\n",
    "dict = {}\n",
    "for (i, word) in enumerate(atom_list,1):\n",
    "        if i in (1,5,6,7,8,9,15,16,19):\n",
    "            dict.update({word[0]:i})\n",
    "        else:\n",
    "            dict.update({word[:2]:i})\n",
    "print(dict)\n",
    "        "
   ]
  },
  {
   "cell_type": "code",
   "execution_count": 42,
   "metadata": {
    "collapsed": false
   },
   "outputs": [
    {
     "name": "stdout",
     "output_type": "stream",
     "text": [
      "{('a', 'n'), ('L', 'P'), ('P', 'e'), (' ', 'N'), ('N', 'L'), ('a', 'm'), (' ', 'a'), ('m', ' '), ('n', ' '), ('I', ' '), ('e', 'r')}\n",
      "{('I', 'am'), ('am', 'an'), ('an', 'NLPer')}\n"
     ]
    }
   ],
   "source": [
    "def ngram(x,n):\n",
    "    return {tuple(x[i:i+n]) for i in range(len(x)-n+1)}\n",
    "\n",
    "            \n",
    "s = \"I am an NLPer\"\n",
    "print(ngram(s,2))\n",
    "print(ngram([t.strip(\",.\") for t in s.split()],2))"
   ]
  },
  {
   "cell_type": "code",
   "execution_count": 45,
   "metadata": {
    "collapsed": false
   },
   "outputs": [
    {
     "name": "stdout",
     "output_type": "stream",
     "text": [
      "{('p', 'a'), ('i', 'd'), ('a', 'r'), ('g', 'h'), ('g', 'r'), ('a', 'p'), ('d', 'e'), ('p', 'g'), ('r', 'g'), ('a', 's'), ('s', 'i'), ('r', 'a')}\n",
      "{('a', 'r'), ('p', 'a'), ('a', 'p'), ('r', 'a')}\n",
      "{('d', 'e'), ('s', 'i'), ('i', 'd'), ('a', 's')}\n",
      "{('r', 'g'), ('p', 'g'), ('g', 'h'), ('g', 'r')}\n"
     ]
    }
   ],
   "source": [
    "X = ngram(\"paraparaparaside\",2)\n",
    "Y = ngram(\"pargrapgh\",2)\n",
    "print(X|Y)\n",
    "print(X&Y)\n",
    "print(X-Y)\n",
    "print(Y-X)\n",
    "c = \"se\"\n",
    "if ngram(c,2) <= X:\n",
    "    print(\"'se' is included in X\")\n",
    "\n",
    "if ngram(c,2) <=Y:\n",
    "    print(\"'se' is included in Y\")\n",
    "    "
   ]
  },
  {
   "cell_type": "code",
   "execution_count": 46,
   "metadata": {
    "collapsed": false
   },
   "outputs": [
    {
     "data": {
      "text/plain": [
       "'12時の気温は22.4'"
      ]
     },
     "execution_count": 46,
     "metadata": {},
     "output_type": "execute_result"
    }
   ],
   "source": [
    "def ifab(x,y,z):\n",
    "    return \"%s時の%sは%s\" %(x,y,z)\n",
    "\n",
    "ifab(12,\"気温\",22.4)"
   ]
  },
  {
   "cell_type": "code",
   "execution_count": 6,
   "metadata": {
    "collapsed": false
   },
   "outputs": [
    {
     "name": "stdout",
     "output_type": "stream",
     "text": [
      "H219 H219 L219219219 B219219219219219219 B219219219219 C219219219219 N219219 O219219219219219219 F219219219219219219219. N219219 N219219219219219219 M219219219219 A219219219 S219219219 P219219219219 S219219219219219219219 C219219219219219. A219219219219219 K219219219 C219219.\n",
      "\n",
      "M219219219219219219 L219219219219219219219\n"
     ]
    }
   ],
   "source": [
    "import re\n",
    "def cipher(x):\n",
    "    return re.sub(r'[a-z]',,x)\n",
    "\n",
    "\n",
    "print(cipher(atom))\n",
    "print()\n",
    "print(cipher('Machine Learning'))\n",
    "    "
   ]
  },
  {
   "cell_type": "code",
   "execution_count": null,
   "metadata": {
    "collapsed": true
   },
   "outputs": [],
   "source": []
  }
 ],
 "metadata": {
  "kernelspec": {
   "display_name": "Python 3",
   "language": "python",
   "name": "python3"
  },
  "language_info": {
   "codemirror_mode": {
    "name": "ipython",
    "version": 3
   },
   "file_extension": ".py",
   "mimetype": "text/x-python",
   "name": "python",
   "nbconvert_exporter": "python",
   "pygments_lexer": "ipython3",
   "version": "3.6.0"
  }
 },
 "nbformat": 4,
 "nbformat_minor": 2
}
